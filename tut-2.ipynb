{
 "cells": [
  {
   "cell_type": "code",
   "execution_count": 2,
   "id": "18eaf316",
   "metadata": {},
   "outputs": [],
   "source": [
    "from pyspark.sql import SparkSession"
   ]
  },
  {
   "cell_type": "code",
   "execution_count": 5,
   "id": "0165dcf6",
   "metadata": {},
   "outputs": [
    {
     "name": "stderr",
     "output_type": "stream",
     "text": [
      "Using Spark's default log4j profile: org/apache/spark/log4j-defaults.properties\n",
      "Setting default log level to \"WARN\".\n",
      "To adjust logging level use sc.setLogLevel(newLevel). For SparkR, use setLogLevel(newLevel).\n",
      "22/05/15 18:51:00 WARN NativeCodeLoader: Unable to load native-hadoop library for your platform... using builtin-java classes where applicable\n",
      "22/05/15 18:51:01 WARN Utils: Service 'SparkUI' could not bind on port 4040. Attempting port 4041.\n"
     ]
    },
    {
     "data": {
      "text/html": [
       "\n",
       "            <div>\n",
       "                <p><b>SparkSession - in-memory</b></p>\n",
       "                \n",
       "        <div>\n",
       "            <p><b>SparkContext</b></p>\n",
       "\n",
       "            <p><a href=\"http://192.168.29.9:4041\">Spark UI</a></p>\n",
       "\n",
       "            <dl>\n",
       "              <dt>Version</dt>\n",
       "                <dd><code>v3.2.1</code></dd>\n",
       "              <dt>Master</dt>\n",
       "                <dd><code>local[*]</code></dd>\n",
       "              <dt>AppName</dt>\n",
       "                <dd><code>pyspark-shell</code></dd>\n",
       "            </dl>\n",
       "        </div>\n",
       "        \n",
       "            </div>\n",
       "        "
      ],
      "text/plain": [
       "<pyspark.sql.session.SparkSession at 0x7fccf160b370>"
      ]
     },
     "execution_count": 5,
     "metadata": {},
     "output_type": "execute_result"
    }
   ],
   "source": [
    "spark = SparkSession.Builder().getOrCreate()\n",
    "spark"
   ]
  },
  {
   "cell_type": "code",
   "execution_count": 6,
   "id": "6c148705",
   "metadata": {},
   "outputs": [],
   "source": [
    "data_path = '/Users/udhhav/Desktop/pyspark/LinkedIn/'"
   ]
  },
  {
   "cell_type": "code",
   "execution_count": 9,
   "id": "c1c7f336",
   "metadata": {},
   "outputs": [],
   "source": [
    "file_path = data_path+\"utlization.json\""
   ]
  },
  {
   "cell_type": "code",
   "execution_count": 12,
   "id": "d54eb47c",
   "metadata": {},
   "outputs": [
    {
     "data": {
      "text/plain": [
       "DataFrame[cpu_utilization: double, event_datetime: string, free_memory: double, server_id: bigint, session_count: bigint]"
      ]
     },
     "execution_count": 12,
     "metadata": {},
     "output_type": "execute_result"
    }
   ],
   "source": [
    "df1 = spark.read.format('json').load(file_path)\n",
    "df1"
   ]
  },
  {
   "cell_type": "code",
   "execution_count": 13,
   "id": "314ed62d",
   "metadata": {},
   "outputs": [
    {
     "data": {
      "text/plain": [
       "500000"
      ]
     },
     "execution_count": 13,
     "metadata": {},
     "output_type": "execute_result"
    }
   ],
   "source": [
    "df1.count()"
   ]
  },
  {
   "cell_type": "code",
   "execution_count": 14,
   "id": "edf1a054",
   "metadata": {},
   "outputs": [
    {
     "name": "stdout",
     "output_type": "stream",
     "text": [
      "+---------------+-------------------+-----------+---------+-------------+\n",
      "|cpu_utilization|     event_datetime|free_memory|server_id|session_count|\n",
      "+---------------+-------------------+-----------+---------+-------------+\n",
      "|           0.57|03/05/2019 08:06:14|       0.51|      100|           47|\n",
      "|           0.47|03/05/2019 08:11:14|       0.62|      100|           43|\n",
      "|           0.56|03/05/2019 08:16:14|       0.57|      100|           62|\n",
      "|           0.57|03/05/2019 08:21:14|       0.56|      100|           50|\n",
      "|           0.35|03/05/2019 08:26:14|       0.46|      100|           43|\n",
      "|           0.41|03/05/2019 08:31:14|       0.58|      100|           48|\n",
      "|           0.57|03/05/2019 08:36:14|       0.35|      100|           58|\n",
      "|           0.41|03/05/2019 08:41:14|        0.4|      100|           58|\n",
      "|           0.53|03/05/2019 08:46:14|       0.35|      100|           62|\n",
      "|           0.51|03/05/2019 08:51:14|        0.6|      100|           45|\n",
      "|           0.32|03/05/2019 08:56:14|       0.37|      100|           47|\n",
      "|           0.62|03/05/2019 09:01:14|       0.59|      100|           60|\n",
      "|           0.66|03/05/2019 09:06:14|       0.72|      100|           57|\n",
      "|           0.54|03/05/2019 09:11:14|       0.54|      100|           44|\n",
      "|           0.29|03/05/2019 09:16:14|        0.4|      100|           47|\n",
      "|           0.43|03/05/2019 09:21:14|       0.68|      100|           66|\n",
      "|           0.49|03/05/2019 09:26:14|       0.66|      100|           65|\n",
      "|           0.64|03/05/2019 09:31:14|       0.55|      100|           66|\n",
      "|           0.42|03/05/2019 09:36:14|        0.6|      100|           42|\n",
      "|           0.55|03/05/2019 09:41:14|       0.59|      100|           63|\n",
      "+---------------+-------------------+-----------+---------+-------------+\n",
      "only showing top 20 rows\n",
      "\n"
     ]
    }
   ],
   "source": [
    "df1.show()"
   ]
  },
  {
   "cell_type": "code",
   "execution_count": 16,
   "id": "dd3f5c92",
   "metadata": {},
   "outputs": [
    {
     "data": {
      "text/plain": [
       "['cpu_utilization',\n",
       " 'event_datetime',\n",
       " 'free_memory',\n",
       " 'server_id',\n",
       " 'session_count']"
      ]
     },
     "execution_count": 16,
     "metadata": {},
     "output_type": "execute_result"
    }
   ],
   "source": [
    "df1.columns"
   ]
  },
  {
   "cell_type": "code",
   "execution_count": 18,
   "id": "208d4f9e",
   "metadata": {},
   "outputs": [],
   "source": [
    "df = df1.sample(False,fraction=0.1,)"
   ]
  },
  {
   "cell_type": "code",
   "execution_count": 19,
   "id": "bf19316d",
   "metadata": {},
   "outputs": [
    {
     "name": "stdout",
     "output_type": "stream",
     "text": [
      "+---------------+-------------------+-----------+---------+-------------+\n",
      "|cpu_utilization|     event_datetime|free_memory|server_id|session_count|\n",
      "+---------------+-------------------+-----------+---------+-------------+\n",
      "|           0.47|03/05/2019 08:11:14|       0.62|      100|           43|\n",
      "|           0.29|03/05/2019 09:16:14|        0.4|      100|           47|\n",
      "|           0.43|03/05/2019 09:21:14|       0.68|      100|           66|\n",
      "|           0.65|03/05/2019 11:46:14|       0.68|      100|           59|\n",
      "|           0.66|03/05/2019 14:01:14|       0.69|      100|           56|\n",
      "|           0.39|03/05/2019 15:01:14|       0.52|      100|           48|\n",
      "|           0.54|03/05/2019 15:31:14|       0.43|      100|           63|\n",
      "|            0.4|03/05/2019 16:26:14|       0.72|      100|           51|\n",
      "|           0.31|03/05/2019 18:36:14|       0.34|      100|           70|\n",
      "|           0.55|03/05/2019 19:11:14|       0.33|      100|           39|\n",
      "|           0.57|03/05/2019 19:16:14|       0.45|      100|           47|\n",
      "|           0.53|03/05/2019 19:21:14|        0.6|      100|           57|\n",
      "|           0.39|03/05/2019 20:11:14|       0.41|      100|           70|\n",
      "|           0.32|03/05/2019 20:21:14|       0.41|      100|           66|\n",
      "|           0.48|03/05/2019 22:41:14|       0.68|      100|           50|\n",
      "|           0.46|03/05/2019 23:11:14|       0.37|      100|           42|\n",
      "|           0.63|03/06/2019 01:01:14|       0.58|      100|           59|\n",
      "|           0.54|03/06/2019 01:06:14|       0.58|      100|           68|\n",
      "|           0.29|03/06/2019 01:31:14|        0.5|      100|           49|\n",
      "|            0.5|03/06/2019 02:06:14|       0.38|      100|           44|\n",
      "+---------------+-------------------+-----------+---------+-------------+\n",
      "only showing top 20 rows\n",
      "\n"
     ]
    }
   ],
   "source": [
    "df.show()"
   ]
  },
  {
   "cell_type": "code",
   "execution_count": 20,
   "id": "49970b27",
   "metadata": {},
   "outputs": [
    {
     "name": "stderr",
     "output_type": "stream",
     "text": [
      "\r",
      "[Stage 10:>                                                         (0 + 8) / 8]\r"
     ]
    },
    {
     "name": "stdout",
     "output_type": "stream",
     "text": [
      "+---------------+-------------------+-----------+---------+-------------+\n",
      "|cpu_utilization|     event_datetime|free_memory|server_id|session_count|\n",
      "+---------------+-------------------+-----------+---------+-------------+\n",
      "|           0.64|03/05/2019 08:06:19|       0.32|      103|           96|\n",
      "|           0.64|03/05/2019 08:06:26|       0.55|      107|           56|\n",
      "|           0.69|03/05/2019 08:06:36|       0.38|      113|           71|\n",
      "|           0.47|03/05/2019 08:11:14|       0.62|      100|           43|\n",
      "|           0.23|03/05/2019 08:11:46|       0.76|      119|           37|\n",
      "|           0.54|03/05/2019 08:12:21|       0.45|      138|           39|\n",
      "|           0.74|03/05/2019 08:12:29|       0.23|      142|           79|\n",
      "|           0.52|03/05/2019 08:17:17|       0.21|      136|           61|\n",
      "|           0.48|03/05/2019 08:17:28|       0.31|      141|           68|\n",
      "|           0.26|03/05/2019 08:21:24|       0.45|      106|           38|\n",
      "|           0.74|03/05/2019 08:21:29|       0.52|      109|           64|\n",
      "|           0.58|03/05/2019 08:21:41|       0.61|      116|           44|\n",
      "|            0.7|03/05/2019 08:21:51|       0.33|      122|           86|\n",
      "|           0.69|03/05/2019 08:22:09|       0.59|      132|           71|\n",
      "|           0.54|03/05/2019 08:22:21|       0.58|      138|           58|\n",
      "|           0.66|03/05/2019 08:26:21|       0.48|      104|           79|\n",
      "|           0.64|03/05/2019 08:26:23|       0.71|      105|           70|\n",
      "|           0.62|03/05/2019 08:26:38|       0.37|      114|           66|\n",
      "|            0.6|03/05/2019 08:27:28|       0.38|      141|           63|\n",
      "|           0.62|03/05/2019 08:27:29|       0.47|      142|           94|\n",
      "+---------------+-------------------+-----------+---------+-------------+\n",
      "only showing top 20 rows\n",
      "\n"
     ]
    },
    {
     "name": "stderr",
     "output_type": "stream",
     "text": [
      "\r",
      "                                                                                \r"
     ]
    }
   ],
   "source": [
    "df_sorted = df.sort('event_datetime')\n",
    "df_sorted.show()"
   ]
  },
  {
   "cell_type": "code",
   "execution_count": null,
   "id": "039d652c",
   "metadata": {},
   "outputs": [],
   "source": []
  }
 ],
 "metadata": {
  "kernelspec": {
   "display_name": "Python 3 (ipykernel)",
   "language": "python",
   "name": "python3"
  },
  "language_info": {
   "codemirror_mode": {
    "name": "ipython",
    "version": 3
   },
   "file_extension": ".py",
   "mimetype": "text/x-python",
   "name": "python",
   "nbconvert_exporter": "python",
   "pygments_lexer": "ipython3",
   "version": "3.9.7"
  }
 },
 "nbformat": 4,
 "nbformat_minor": 5
}
