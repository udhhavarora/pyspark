{
 "cells": [
  {
   "cell_type": "code",
   "execution_count": 1,
   "id": "e614bcbf",
   "metadata": {},
   "outputs": [
    {
     "name": "stderr",
     "output_type": "stream",
     "text": [
      "22/05/16 11:51:59 WARN Utils: Your hostname, Udhhavs-MacBook-Air.local resolves to a loopback address: 127.0.0.1; using 192.168.29.9 instead (on interface en0)\n",
      "22/05/16 11:51:59 WARN Utils: Set SPARK_LOCAL_IP if you need to bind to another address\n",
      "Using Spark's default log4j profile: org/apache/spark/log4j-defaults.properties\n",
      "Setting default log level to \"WARN\".\n",
      "To adjust logging level use sc.setLogLevel(newLevel). For SparkR, use setLogLevel(newLevel).\n",
      "22/05/16 11:52:01 WARN NativeCodeLoader: Unable to load native-hadoop library for your platform... using builtin-java classes where applicable\n",
      "22/05/16 11:52:02 WARN Utils: Service 'SparkUI' could not bind on port 4040. Attempting port 4041.\n",
      "22/05/16 11:52:02 WARN Utils: Service 'SparkUI' could not bind on port 4041. Attempting port 4042.\n",
      "22/05/16 11:52:02 WARN Utils: Service 'SparkUI' could not bind on port 4042. Attempting port 4043.\n",
      "22/05/16 11:52:02 WARN Utils: Service 'SparkUI' could not bind on port 4043. Attempting port 4044.\n"
     ]
    },
    {
     "data": {
      "text/html": [
       "\n",
       "            <div>\n",
       "                <p><b>SparkSession - in-memory</b></p>\n",
       "                \n",
       "        <div>\n",
       "            <p><b>SparkContext</b></p>\n",
       "\n",
       "            <p><a href=\"http://192.168.29.9:4044\">Spark UI</a></p>\n",
       "\n",
       "            <dl>\n",
       "              <dt>Version</dt>\n",
       "                <dd><code>v3.2.1</code></dd>\n",
       "              <dt>Master</dt>\n",
       "                <dd><code>local[*]</code></dd>\n",
       "              <dt>AppName</dt>\n",
       "                <dd><code>pyspark-shell</code></dd>\n",
       "            </dl>\n",
       "        </div>\n",
       "        \n",
       "            </div>\n",
       "        "
      ],
      "text/plain": [
       "<pyspark.sql.session.SparkSession at 0x7fe511ff94f0>"
      ]
     },
     "execution_count": 1,
     "metadata": {},
     "output_type": "execute_result"
    }
   ],
   "source": [
    "from pyspark.sql import SparkSession\n",
    "spark = SparkSession.builder.getOrCreate()\n",
    "spark"
   ]
  },
  {
   "cell_type": "code",
   "execution_count": 2,
   "id": "53fdbf18",
   "metadata": {},
   "outputs": [],
   "source": [
    "data_path = '/Users/udhhav/Desktop/pyspark/LinkedIn/'\n",
    "file_path = data_path+\"location_temp.csv\""
   ]
  },
  {
   "cell_type": "code",
   "execution_count": 3,
   "id": "87c52e52",
   "metadata": {},
   "outputs": [
    {
     "name": "stderr",
     "output_type": "stream",
     "text": [
      "                                                                                \r"
     ]
    }
   ],
   "source": [
    "df = spark.read.format(\"csv\").option(\"header\",\"true\").load(file_path)"
   ]
  },
  {
   "cell_type": "code",
   "execution_count": 4,
   "id": "dfd42010",
   "metadata": {},
   "outputs": [
    {
     "name": "stdout",
     "output_type": "stream",
     "text": [
      "+-------------------+-----------+------------+\n",
      "|         event_date|location_id|temp_celcius|\n",
      "+-------------------+-----------+------------+\n",
      "|03/04/2019 19:48:06|       loc0|          29|\n",
      "|03/04/2019 19:53:06|       loc0|          27|\n",
      "|03/04/2019 19:58:06|       loc0|          28|\n",
      "|03/04/2019 20:03:06|       loc0|          30|\n",
      "|03/04/2019 20:08:06|       loc0|          27|\n",
      "|03/04/2019 20:13:06|       loc0|          27|\n",
      "|03/04/2019 20:18:06|       loc0|          27|\n",
      "|03/04/2019 20:23:06|       loc0|          29|\n",
      "|03/04/2019 20:28:06|       loc0|          32|\n",
      "|03/04/2019 20:33:06|       loc0|          35|\n",
      "+-------------------+-----------+------------+\n",
      "only showing top 10 rows\n",
      "\n"
     ]
    }
   ],
   "source": [
    "df.show(10)"
   ]
  },
  {
   "cell_type": "code",
   "execution_count": 5,
   "id": "bc5a0547",
   "metadata": {},
   "outputs": [
    {
     "data": {
      "text/plain": [
       "500000"
      ]
     },
     "execution_count": 5,
     "metadata": {},
     "output_type": "execute_result"
    }
   ],
   "source": [
    "df.count()"
   ]
  },
  {
   "cell_type": "code",
   "execution_count": 6,
   "id": "58c2f2e4",
   "metadata": {},
   "outputs": [],
   "source": [
    "df_sample1 = df.sample(fraction=0.1,withReplacement = False)"
   ]
  },
  {
   "cell_type": "code",
   "execution_count": 7,
   "id": "9cb02d7c",
   "metadata": {},
   "outputs": [
    {
     "data": {
      "text/plain": [
       "49894"
      ]
     },
     "execution_count": 7,
     "metadata": {},
     "output_type": "execute_result"
    }
   ],
   "source": [
    "df_sample1.count()"
   ]
  },
  {
   "cell_type": "code",
   "execution_count": 8,
   "id": "eb8e28fa",
   "metadata": {},
   "outputs": [
    {
     "name": "stderr",
     "output_type": "stream",
     "text": [
      "\r",
      "[Stage 8:>                                                          (0 + 4) / 4]\r"
     ]
    },
    {
     "name": "stdout",
     "output_type": "stream",
     "text": [
      "+-----------+------------------+\n",
      "|location_id| avg(temp_celcius)|\n",
      "+-----------+------------------+\n",
      "|      loc22|28.697674418604652|\n",
      "|      loc31| 25.47222222222222|\n",
      "|      loc82|27.322580645161292|\n",
      "|      loc90| 23.12121212121212|\n",
      "|     loc118|24.056603773584907|\n",
      "|      loc39|           24.8125|\n",
      "|      loc75|23.085106382978722|\n",
      "|     loc122| 32.41237113402062|\n",
      "|      loc24|31.298969072164947|\n",
      "|      loc30| 30.35164835164835|\n",
      "|     loc105|26.357142857142858|\n",
      "|      loc96|             28.11|\n",
      "|     loc102| 30.50485436893204|\n",
      "|      loc18|30.182608695652174|\n",
      "|      loc27| 30.88235294117647|\n",
      "|     loc143| 28.22222222222222|\n",
      "|      loc43| 32.29545454545455|\n",
      "|     loc123|23.457943925233646|\n",
      "|      loc15|31.929411764705883|\n",
      "|      loc48|             30.32|\n",
      "+-----------+------------------+\n",
      "only showing top 20 rows\n",
      "\n"
     ]
    },
    {
     "name": "stderr",
     "output_type": "stream",
     "text": [
      "\r",
      "                                                                                \r"
     ]
    }
   ],
   "source": [
    "df_sample1.groupBy(\"location_id\").agg({\"temp_celcius\":\"mean\"}).show()"
   ]
  },
  {
   "cell_type": "code",
   "execution_count": 9,
   "id": "564563e0",
   "metadata": {},
   "outputs": [
    {
     "name": "stderr",
     "output_type": "stream",
     "text": [
      "\r",
      "[Stage 11:>                                                         (0 + 4) / 4]\r"
     ]
    },
    {
     "name": "stdout",
     "output_type": "stream",
     "text": [
      "+-----------+------------------+\n",
      "|location_id| avg(temp_celcius)|\n",
      "+-----------+------------------+\n",
      "|       loc0|29.130841121495326|\n",
      "|       loc1|28.376237623762375|\n",
      "|      loc10|25.333333333333332|\n",
      "|     loc100|27.935185185185187|\n",
      "|     loc101|25.358490566037737|\n",
      "|     loc102| 30.50485436893204|\n",
      "|     loc103|            25.475|\n",
      "|     loc104|26.032258064516128|\n",
      "|     loc105|26.357142857142858|\n",
      "|     loc106|27.105263157894736|\n",
      "|     loc107| 33.06666666666667|\n",
      "|     loc108| 32.18478260869565|\n",
      "|     loc109|  24.1046511627907|\n",
      "|      loc11|25.608695652173914|\n",
      "|     loc110|26.151515151515152|\n",
      "|     loc111|31.136363636363637|\n",
      "|     loc112| 33.30337078651685|\n",
      "|     loc113| 30.00826446280992|\n",
      "|     loc114| 29.17094017094017|\n",
      "|     loc115| 22.97029702970297|\n",
      "+-----------+------------------+\n",
      "only showing top 20 rows\n",
      "\n"
     ]
    },
    {
     "name": "stderr",
     "output_type": "stream",
     "text": [
      "\r",
      "                                                                                \r"
     ]
    }
   ],
   "source": [
    "df_sample1.groupBy(\"location_id\").agg({\"temp_celcius\":\"mean\"}).orderBy(\"location_id\").show()"
   ]
  },
  {
   "cell_type": "code",
   "execution_count": 10,
   "id": "2961064e",
   "metadata": {},
   "outputs": [
    {
     "name": "stdout",
     "output_type": "stream",
     "text": [
      "+-----------+-----------------+\n",
      "|location_id|avg(temp_celcius)|\n",
      "+-----------+-----------------+\n",
      "|       loc0|           29.176|\n",
      "|       loc1|           28.246|\n",
      "|      loc10|           25.337|\n",
      "|     loc100|           27.297|\n",
      "|     loc101|           25.317|\n",
      "|     loc102|           30.327|\n",
      "|     loc103|           25.341|\n",
      "|     loc104|           26.204|\n",
      "|     loc105|           26.217|\n",
      "|     loc106|           27.201|\n",
      "|     loc107|           33.268|\n",
      "|     loc108|           32.195|\n",
      "|     loc109|           24.138|\n",
      "|      loc11|           25.308|\n",
      "|     loc110|           26.239|\n",
      "|     loc111|           31.391|\n",
      "|     loc112|           33.359|\n",
      "|     loc113|           30.345|\n",
      "|     loc114|           29.261|\n",
      "|     loc115|           23.239|\n",
      "+-----------+-----------------+\n",
      "only showing top 20 rows\n",
      "\n"
     ]
    }
   ],
   "source": [
    "df.groupBy(\"location_id\").agg({\"temp_celcius\":\"mean\"}).orderBy(\"location_id\").show()"
   ]
  },
  {
   "cell_type": "code",
   "execution_count": 11,
   "id": "403c8a07",
   "metadata": {},
   "outputs": [
    {
     "name": "stderr",
     "output_type": "stream",
     "text": [
      "                                                                                \r"
     ]
    }
   ],
   "source": [
    "df.write.csv(\"df.csv\")"
   ]
  },
  {
   "cell_type": "code",
   "execution_count": 12,
   "id": "793755f2",
   "metadata": {},
   "outputs": [
    {
     "name": "stdout",
     "output_type": "stream",
     "text": [
      "total 180432\r\n",
      "-rwxr-xr-x@  1 udhhav  staff  18504832 Mar  6  2019 \u001b[31mutilization.csv\u001b[m\u001b[m\r\n",
      "-rwxr-xr-x@  1 udhhav  staff  14890036 Mar 13  2019 \u001b[31mlocation_temp.csv\u001b[m\u001b[m\r\n",
      "-rwxr-xr-x@  1 udhhav  staff       772 Mar 16  2019 \u001b[31mserver_name.csv\u001b[m\u001b[m\r\n",
      "-rwxr-xr-x@  1 udhhav  staff  58905124 Feb 26  2021 \u001b[31mutlization.json\u001b[m\u001b[m\r\n",
      "-rw-r--r--   1 udhhav  staff     11858 May 15 19:00 tut-2.ipynb\r\n",
      "-rw-r--r--   1 udhhav  staff     12759 May 15 19:02 tut-1.ipynb\r\n",
      "-rw-r--r--   1 udhhav  staff     10028 May 16 00:02 tut-3.ipynb\r\n",
      "-rw-r--r--   1 udhhav  staff     12701 May 16 11:50 tut-4.ipynb\r\n",
      "-rw-r--r--   1 udhhav  staff     10691 May 16 11:57 tut-5.ipynb\r\n",
      "drwxr-xr-x  12 udhhav  staff       384 May 16 11:57 \u001b[34mdf.csv\u001b[m\u001b[m\r\n"
     ]
    }
   ],
   "source": [
    "!ls -lrt"
   ]
  },
  {
   "cell_type": "code",
   "execution_count": 15,
   "id": "f45cdb2b",
   "metadata": {},
   "outputs": [
    {
     "name": "stdout",
     "output_type": "stream",
     "text": [
      "_SUCCESS\r\n",
      "part-00000-d85aefbf-2faf-4267-92ef-2e2378010423-c000.csv\r\n",
      "part-00001-d85aefbf-2faf-4267-92ef-2e2378010423-c000.csv\r\n",
      "part-00002-d85aefbf-2faf-4267-92ef-2e2378010423-c000.csv\r\n",
      "part-00003-d85aefbf-2faf-4267-92ef-2e2378010423-c000.csv\r\n"
     ]
    }
   ],
   "source": [
    "!ls df.csv"
   ]
  },
  {
   "cell_type": "code",
   "execution_count": 16,
   "id": "f1835f04",
   "metadata": {},
   "outputs": [
    {
     "name": "stdout",
     "output_type": "stream",
     "text": [
      "03/04/2019 19:48:06,loc0,29\r\n",
      "03/04/2019 19:53:06,loc0,27\r\n",
      "03/04/2019 19:58:06,loc0,28\r\n",
      "03/04/2019 20:03:06,loc0,30\r\n",
      "03/04/2019 20:08:06,loc0,27\r\n",
      "03/04/2019 20:13:06,loc0,27\r\n",
      "03/04/2019 20:18:06,loc0,27\r\n",
      "03/04/2019 20:23:06,loc0,29\r\n",
      "03/04/2019 20:28:06,loc0,32\r\n",
      "03/04/2019 20:33:06,loc0,35\r\n"
     ]
    }
   ],
   "source": [
    "! head df.csv/part-00000-d85aefbf-2faf-4267-92ef-2e2378010423-c000.csv"
   ]
  },
  {
   "cell_type": "code",
   "execution_count": 17,
   "id": "e592ef7d",
   "metadata": {},
   "outputs": [
    {
     "name": "stderr",
     "output_type": "stream",
     "text": [
      "                                                                                \r"
     ]
    }
   ],
   "source": [
    "df_sample1.write.json(\"sample.json\")"
   ]
  },
  {
   "cell_type": "code",
   "execution_count": 18,
   "id": "4c2ea6d5",
   "metadata": {},
   "outputs": [
    {
     "name": "stdout",
     "output_type": "stream",
     "text": [
      "total 180440\r\n",
      "-rwxr-xr-x@  1 udhhav  staff  18504832 Mar  6  2019 \u001b[31mutilization.csv\u001b[m\u001b[m\r\n",
      "-rwxr-xr-x@  1 udhhav  staff  14890036 Mar 13  2019 \u001b[31mlocation_temp.csv\u001b[m\u001b[m\r\n",
      "-rwxr-xr-x@  1 udhhav  staff       772 Mar 16  2019 \u001b[31mserver_name.csv\u001b[m\u001b[m\r\n",
      "-rwxr-xr-x@  1 udhhav  staff  58905124 Feb 26  2021 \u001b[31mutlization.json\u001b[m\u001b[m\r\n",
      "-rw-r--r--   1 udhhav  staff     11858 May 15 19:00 tut-2.ipynb\r\n",
      "-rw-r--r--   1 udhhav  staff     12759 May 15 19:02 tut-1.ipynb\r\n",
      "-rw-r--r--   1 udhhav  staff     10028 May 16 00:02 tut-3.ipynb\r\n",
      "-rw-r--r--   1 udhhav  staff     12701 May 16 11:50 tut-4.ipynb\r\n",
      "drwxr-xr-x  12 udhhav  staff       384 May 16 11:57 \u001b[34mdf.csv\u001b[m\u001b[m\r\n",
      "-rw-r--r--   1 udhhav  staff     13482 May 16 11:59 tut-5.ipynb\r\n",
      "drwxr-xr-x  12 udhhav  staff       384 May 16 11:59 \u001b[34msample.json\u001b[m\u001b[m\r\n"
     ]
    }
   ],
   "source": [
    "! ls -lrt"
   ]
  },
  {
   "cell_type": "code",
   "execution_count": 19,
   "id": "6be32982",
   "metadata": {},
   "outputs": [
    {
     "name": "stdout",
     "output_type": "stream",
     "text": [
      "_SUCCESS\r\n",
      "part-00000-a28c3ed7-5e42-4fae-8a7f-e89447e62afa-c000.json\r\n",
      "part-00001-a28c3ed7-5e42-4fae-8a7f-e89447e62afa-c000.json\r\n",
      "part-00002-a28c3ed7-5e42-4fae-8a7f-e89447e62afa-c000.json\r\n",
      "part-00003-a28c3ed7-5e42-4fae-8a7f-e89447e62afa-c000.json\r\n"
     ]
    }
   ],
   "source": [
    "! ls sample.json"
   ]
  },
  {
   "cell_type": "code",
   "execution_count": 20,
   "id": "a3115f6f",
   "metadata": {},
   "outputs": [
    {
     "name": "stdout",
     "output_type": "stream",
     "text": [
      "{\"event_date\":\"03/04/2019 20:48:06\",\"location_id\":\"loc0\",\"temp_celcius\":\"28\"}\r\n",
      "{\"event_date\":\"03/04/2019 20:53:06\",\"location_id\":\"loc0\",\"temp_celcius\":\"32\"}\r\n",
      "{\"event_date\":\"03/04/2019 21:18:06\",\"location_id\":\"loc0\",\"temp_celcius\":\"33\"}\r\n",
      "{\"event_date\":\"03/04/2019 21:28:06\",\"location_id\":\"loc0\",\"temp_celcius\":\"29\"}\r\n",
      "{\"event_date\":\"03/04/2019 21:53:06\",\"location_id\":\"loc0\",\"temp_celcius\":\"29\"}\r\n",
      "{\"event_date\":\"03/04/2019 22:08:06\",\"location_id\":\"loc0\",\"temp_celcius\":\"31\"}\r\n",
      "{\"event_date\":\"03/04/2019 22:28:06\",\"location_id\":\"loc0\",\"temp_celcius\":\"28\"}\r\n",
      "{\"event_date\":\"03/04/2019 23:13:06\",\"location_id\":\"loc0\",\"temp_celcius\":\"27\"}\r\n",
      "{\"event_date\":\"03/05/2019 02:48:06\",\"location_id\":\"loc0\",\"temp_celcius\":\"27\"}\r\n",
      "{\"event_date\":\"03/05/2019 03:08:06\",\"location_id\":\"loc0\",\"temp_celcius\":\"28\"}\r\n"
     ]
    }
   ],
   "source": [
    "! head sample.json/part-00000-a28c3ed7-5e42-4fae-8a7f-e89447e62afa-c000.json"
   ]
  },
  {
   "cell_type": "code",
   "execution_count": null,
   "id": "8ad0e7e7",
   "metadata": {},
   "outputs": [],
   "source": []
  }
 ],
 "metadata": {
  "kernelspec": {
   "display_name": "Python 3 (ipykernel)",
   "language": "python",
   "name": "python3"
  },
  "language_info": {
   "codemirror_mode": {
    "name": "ipython",
    "version": 3
   },
   "file_extension": ".py",
   "mimetype": "text/x-python",
   "name": "python",
   "nbconvert_exporter": "python",
   "pygments_lexer": "ipython3",
   "version": "3.9.7"
  }
 },
 "nbformat": 4,
 "nbformat_minor": 5
}
