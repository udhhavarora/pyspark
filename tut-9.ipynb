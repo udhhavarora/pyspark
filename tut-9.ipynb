{
 "cells": [
  {
   "cell_type": "code",
   "execution_count": 1,
   "id": "0a0684d5",
   "metadata": {},
   "outputs": [],
   "source": [
    "from pyspark.sql import Row, SparkSession\n",
    "from pyspark.sql.functions import lit\n",
    "from pyspark.sql.types import StringType"
   ]
  },
  {
   "cell_type": "code",
   "execution_count": 2,
   "id": "2d49f4f3",
   "metadata": {},
   "outputs": [
    {
     "name": "stderr",
     "output_type": "stream",
     "text": [
      "22/05/16 13:02:33 WARN Utils: Your hostname, Udhhavs-MacBook-Air.local resolves to a loopback address: 127.0.0.1; using 192.168.29.9 instead (on interface en0)\n",
      "22/05/16 13:02:33 WARN Utils: Set SPARK_LOCAL_IP if you need to bind to another address\n",
      "Using Spark's default log4j profile: org/apache/spark/log4j-defaults.properties\n",
      "Setting default log level to \"WARN\".\n",
      "To adjust logging level use sc.setLogLevel(newLevel). For SparkR, use setLogLevel(newLevel).\n",
      "22/05/16 13:02:34 WARN NativeCodeLoader: Unable to load native-hadoop library for your platform... using builtin-java classes where applicable\n",
      "22/05/16 13:02:35 WARN Utils: Service 'SparkUI' could not bind on port 4040. Attempting port 4041.\n",
      "/opt/anaconda3/lib/python3.9/site-packages/pyspark/sql/context.py:77: FutureWarning: Deprecated in 3.0.0. Use SparkSession.builder.getOrCreate() instead.\n",
      "  warnings.warn(\n"
     ]
    }
   ],
   "source": [
    "from pyspark import SparkContext, SparkConf\n",
    "from pyspark.sql import SQLContext\n",
    "from pyspark import sql\n",
    "\n",
    "sc = SparkContext.getOrCreate()\n",
    "sqlContext = sql.SQLContext(sc)"
   ]
  },
  {
   "cell_type": "code",
   "execution_count": 3,
   "id": "7dd16746",
   "metadata": {},
   "outputs": [
    {
     "name": "stderr",
     "output_type": "stream",
     "text": [
      "                                                                                \r"
     ]
    }
   ],
   "source": [
    "df = sc.parallelize([Row(server_name = '101 Server',cpu_utilization=85, session_count=80),\n",
    "                       Row(server_name = '101 Server',cpu_utilization=80, session_count=90),\n",
    "                       Row(server_name = '102 Server',cpu_utilization=85, session_count=40),\n",
    "                       Row(server_name = '103 Server',cpu_utilization=70, session_count=80),\n",
    "                       Row(server_name = '104 Server',cpu_utilization=60, session_count=80)\n",
    "                        ]).toDF()"
   ]
  },
  {
   "cell_type": "code",
   "execution_count": 4,
   "id": "79f26b91",
   "metadata": {},
   "outputs": [
    {
     "name": "stdout",
     "output_type": "stream",
     "text": [
      "+-----------+---------------+-------------+\n",
      "|server_name|cpu_utilization|session_count|\n",
      "+-----------+---------------+-------------+\n",
      "| 101 Server|             85|           80|\n",
      "| 101 Server|             80|           90|\n",
      "| 102 Server|             85|           40|\n",
      "| 103 Server|             70|           80|\n",
      "| 104 Server|             60|           80|\n",
      "+-----------+---------------+-------------+\n",
      "\n"
     ]
    }
   ],
   "source": [
    "df.show()"
   ]
  },
  {
   "cell_type": "code",
   "execution_count": 6,
   "id": "180148b5",
   "metadata": {},
   "outputs": [
    {
     "name": "stdout",
     "output_type": "stream",
     "text": [
      "+-----------+---------------+-------------+------+\n",
      "|server_name|cpu_utilization|session_count|na_col|\n",
      "+-----------+---------------+-------------+------+\n",
      "| 101 Server|             85|           80|  null|\n",
      "| 101 Server|             80|           90|  null|\n",
      "| 102 Server|             85|           40|  null|\n",
      "| 103 Server|             70|           80|  null|\n",
      "| 104 Server|             60|           80|  null|\n",
      "+-----------+---------------+-------------+------+\n",
      "\n"
     ]
    }
   ],
   "source": [
    "df_na = df.withColumn('na_col',lit(None).cast(StringType()))\n",
    "df_na.show()"
   ]
  },
  {
   "cell_type": "code",
   "execution_count": 7,
   "id": "0acfc65c",
   "metadata": {},
   "outputs": [
    {
     "name": "stdout",
     "output_type": "stream",
     "text": [
      "+-----------+---------------+-------------+------+\n",
      "|server_name|cpu_utilization|session_count|na_col|\n",
      "+-----------+---------------+-------------+------+\n",
      "| 101 Server|             85|           80|     A|\n",
      "| 101 Server|             80|           90|     A|\n",
      "| 102 Server|             85|           40|     A|\n",
      "| 103 Server|             70|           80|     A|\n",
      "| 104 Server|             60|           80|     A|\n",
      "+-----------+---------------+-------------+------+\n",
      "\n"
     ]
    }
   ],
   "source": [
    "df_na.fillna(\"A\").show()"
   ]
  },
  {
   "cell_type": "code",
   "execution_count": 8,
   "id": "0535c108",
   "metadata": {},
   "outputs": [
    {
     "name": "stdout",
     "output_type": "stream",
     "text": [
      "+-----------+---------------+-------------+------+\n",
      "|server_name|cpu_utilization|session_count|na_col|\n",
      "+-----------+---------------+-------------+------+\n",
      "| 101 Server|             85|           80|     A|\n",
      "| 101 Server|             80|           90|     A|\n",
      "| 102 Server|             85|           40|     A|\n",
      "| 103 Server|             70|           80|     A|\n",
      "| 104 Server|             60|           80|     A|\n",
      "| 101 Server|             85|           80|  null|\n",
      "| 101 Server|             80|           90|  null|\n",
      "| 102 Server|             85|           40|  null|\n",
      "| 103 Server|             70|           80|  null|\n",
      "| 104 Server|             60|           80|  null|\n",
      "+-----------+---------------+-------------+------+\n",
      "\n"
     ]
    }
   ],
   "source": [
    "df2 = df_na.fillna('A').union(df_na)\n",
    "df2.show()"
   ]
  },
  {
   "cell_type": "code",
   "execution_count": 9,
   "id": "28e6117f",
   "metadata": {},
   "outputs": [
    {
     "name": "stdout",
     "output_type": "stream",
     "text": [
      "+-----------+---------------+-------------+------+\n",
      "|server_name|cpu_utilization|session_count|na_col|\n",
      "+-----------+---------------+-------------+------+\n",
      "| 101 Server|             85|           80|     A|\n",
      "| 101 Server|             80|           90|     A|\n",
      "| 102 Server|             85|           40|     A|\n",
      "| 103 Server|             70|           80|     A|\n",
      "| 104 Server|             60|           80|     A|\n",
      "+-----------+---------------+-------------+------+\n",
      "\n"
     ]
    }
   ],
   "source": [
    "df2.na.drop().show()"
   ]
  },
  {
   "cell_type": "code",
   "execution_count": 10,
   "id": "f8ac25e6",
   "metadata": {},
   "outputs": [],
   "source": [
    "df2.createOrReplaceTempView('na_table')"
   ]
  },
  {
   "cell_type": "code",
   "execution_count": 13,
   "id": "21ae852c",
   "metadata": {},
   "outputs": [
    {
     "name": "stdout",
     "output_type": "stream",
     "text": [
      "+-----------+---------------+-------------+------+\n",
      "|server_name|cpu_utilization|session_count|na_col|\n",
      "+-----------+---------------+-------------+------+\n",
      "| 101 Server|             85|           80|     A|\n",
      "| 101 Server|             80|           90|     A|\n",
      "| 102 Server|             85|           40|     A|\n",
      "| 103 Server|             70|           80|     A|\n",
      "| 104 Server|             60|           80|     A|\n",
      "| 101 Server|             85|           80|  null|\n",
      "| 101 Server|             80|           90|  null|\n",
      "| 102 Server|             85|           40|  null|\n",
      "| 103 Server|             70|           80|  null|\n",
      "| 104 Server|             60|           80|  null|\n",
      "+-----------+---------------+-------------+------+\n",
      "\n"
     ]
    }
   ],
   "source": [
    "spark = SparkSession.builder.appName(\"Udhhav\").getOrCreate()\n",
    "spark.sql(\"\"\"\n",
    "select * from na_table\"\"\").show()"
   ]
  },
  {
   "cell_type": "code",
   "execution_count": 14,
   "id": "09a355e8",
   "metadata": {},
   "outputs": [
    {
     "name": "stdout",
     "output_type": "stream",
     "text": [
      "+-----------+---------------+-------------+------+\n",
      "|server_name|cpu_utilization|session_count|na_col|\n",
      "+-----------+---------------+-------------+------+\n",
      "| 101 Server|             85|           80|  null|\n",
      "| 101 Server|             80|           90|  null|\n",
      "| 102 Server|             85|           40|  null|\n",
      "| 103 Server|             70|           80|  null|\n",
      "| 104 Server|             60|           80|  null|\n",
      "+-----------+---------------+-------------+------+\n",
      "\n"
     ]
    }
   ],
   "source": [
    "spark.sql(\"\"\"\n",
    "select * from na_table where na_col is null\"\"\").show()"
   ]
  },
  {
   "cell_type": "code",
   "execution_count": 15,
   "id": "67624ee4",
   "metadata": {},
   "outputs": [
    {
     "name": "stdout",
     "output_type": "stream",
     "text": [
      "+-----------+---------------+-------------+------+\n",
      "|server_name|cpu_utilization|session_count|na_col|\n",
      "+-----------+---------------+-------------+------+\n",
      "| 101 Server|             85|           80|     A|\n",
      "| 101 Server|             80|           90|     A|\n",
      "| 102 Server|             85|           40|     A|\n",
      "| 103 Server|             70|           80|     A|\n",
      "| 104 Server|             60|           80|     A|\n",
      "+-----------+---------------+-------------+------+\n",
      "\n"
     ]
    }
   ],
   "source": [
    "spark.sql(\"\"\"\n",
    "select * from na_table where na_col is not null\"\"\").show()"
   ]
  },
  {
   "cell_type": "code",
   "execution_count": null,
   "id": "4a229972",
   "metadata": {},
   "outputs": [],
   "source": []
  }
 ],
 "metadata": {
  "kernelspec": {
   "display_name": "Python 3 (ipykernel)",
   "language": "python",
   "name": "python3"
  },
  "language_info": {
   "codemirror_mode": {
    "name": "ipython",
    "version": 3
   },
   "file_extension": ".py",
   "mimetype": "text/x-python",
   "name": "python",
   "nbconvert_exporter": "python",
   "pygments_lexer": "ipython3",
   "version": "3.9.7"
  }
 },
 "nbformat": 4,
 "nbformat_minor": 5
}
