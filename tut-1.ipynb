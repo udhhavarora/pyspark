{
 "cells": [
  {
   "cell_type": "code",
   "execution_count": 1,
   "id": "e3050399",
   "metadata": {},
   "outputs": [],
   "source": [
    "from pyspark.sql import SparkSession"
   ]
  },
  {
   "cell_type": "code",
   "execution_count": 2,
   "id": "4b135c4a",
   "metadata": {},
   "outputs": [
    {
     "name": "stderr",
     "output_type": "stream",
     "text": [
      "22/05/15 17:30:53 WARN Utils: Your hostname, Udhhavs-MacBook-Air.local resolves to a loopback address: 127.0.0.1; using 192.168.29.9 instead (on interface en0)\n",
      "22/05/15 17:30:53 WARN Utils: Set SPARK_LOCAL_IP if you need to bind to another address\n",
      "Using Spark's default log4j profile: org/apache/spark/log4j-defaults.properties\n",
      "Setting default log level to \"WARN\".\n",
      "To adjust logging level use sc.setLogLevel(newLevel). For SparkR, use setLogLevel(newLevel).\n",
      "22/05/15 17:30:54 WARN NativeCodeLoader: Unable to load native-hadoop library for your platform... using builtin-java classes where applicable\n"
     ]
    }
   ],
   "source": [
    "spark = SparkSession.builder.getOrCreate()"
   ]
  },
  {
   "cell_type": "code",
   "execution_count": 3,
   "id": "087a70cc",
   "metadata": {},
   "outputs": [
    {
     "data": {
      "text/html": [
       "\n",
       "            <div>\n",
       "                <p><b>SparkSession - in-memory</b></p>\n",
       "                \n",
       "        <div>\n",
       "            <p><b>SparkContext</b></p>\n",
       "\n",
       "            <p><a href=\"http://192.168.29.9:4040\">Spark UI</a></p>\n",
       "\n",
       "            <dl>\n",
       "              <dt>Version</dt>\n",
       "                <dd><code>v3.2.1</code></dd>\n",
       "              <dt>Master</dt>\n",
       "                <dd><code>local[*]</code></dd>\n",
       "              <dt>AppName</dt>\n",
       "                <dd><code>pyspark-shell</code></dd>\n",
       "            </dl>\n",
       "        </div>\n",
       "        \n",
       "            </div>\n",
       "        "
      ],
      "text/plain": [
       "<pyspark.sql.session.SparkSession at 0x7f7b19675610>"
      ]
     },
     "execution_count": 3,
     "metadata": {},
     "output_type": "execute_result"
    }
   ],
   "source": [
    "spark"
   ]
  },
  {
   "cell_type": "code",
   "execution_count": 18,
   "id": "b1453f05",
   "metadata": {},
   "outputs": [],
   "source": [
    "data_path = '/Users/udhhav/Desktop/pyspark/LinkedIn/'"
   ]
  },
  {
   "cell_type": "code",
   "execution_count": 19,
   "id": "052cd56f",
   "metadata": {},
   "outputs": [],
   "source": [
    "file_path = data_path+\"location_temp.csv\""
   ]
  },
  {
   "cell_type": "code",
   "execution_count": 20,
   "id": "5dc08379",
   "metadata": {},
   "outputs": [
    {
     "name": "stderr",
     "output_type": "stream",
     "text": [
      "                                                                                \r"
     ]
    }
   ],
   "source": [
    "df1 = spark.read.format(\"csv\").option(\"header\",\"true\").load(file_path)"
   ]
  },
  {
   "cell_type": "code",
   "execution_count": 21,
   "id": "d2571018",
   "metadata": {},
   "outputs": [
    {
     "data": {
      "text/plain": [
       "[Row(event_date='03/04/2019 19:48:06', location_id='loc0', temp_celcius='29'),\n",
       " Row(event_date='03/04/2019 19:53:06', location_id='loc0', temp_celcius='27'),\n",
       " Row(event_date='03/04/2019 19:58:06', location_id='loc0', temp_celcius='28'),\n",
       " Row(event_date='03/04/2019 20:03:06', location_id='loc0', temp_celcius='30'),\n",
       " Row(event_date='03/04/2019 20:08:06', location_id='loc0', temp_celcius='27'),\n",
       " Row(event_date='03/04/2019 20:13:06', location_id='loc0', temp_celcius='27'),\n",
       " Row(event_date='03/04/2019 20:18:06', location_id='loc0', temp_celcius='27'),\n",
       " Row(event_date='03/04/2019 20:23:06', location_id='loc0', temp_celcius='29'),\n",
       " Row(event_date='03/04/2019 20:28:06', location_id='loc0', temp_celcius='32'),\n",
       " Row(event_date='03/04/2019 20:33:06', location_id='loc0', temp_celcius='35')]"
      ]
     },
     "execution_count": 21,
     "metadata": {},
     "output_type": "execute_result"
    }
   ],
   "source": [
    "df1.head(10)"
   ]
  },
  {
   "cell_type": "code",
   "execution_count": 22,
   "id": "1e9c1eed",
   "metadata": {},
   "outputs": [
    {
     "name": "stdout",
     "output_type": "stream",
     "text": [
      "+-------------------+-----------+------------+\n",
      "|event_date         |location_id|temp_celcius|\n",
      "+-------------------+-----------+------------+\n",
      "|03/04/2019 19:48:06|loc0       |29          |\n",
      "|03/04/2019 19:53:06|loc0       |27          |\n",
      "|03/04/2019 19:58:06|loc0       |28          |\n",
      "|03/04/2019 20:03:06|loc0       |30          |\n",
      "|03/04/2019 20:08:06|loc0       |27          |\n",
      "|03/04/2019 20:13:06|loc0       |27          |\n",
      "|03/04/2019 20:18:06|loc0       |27          |\n",
      "|03/04/2019 20:23:06|loc0       |29          |\n",
      "|03/04/2019 20:28:06|loc0       |32          |\n",
      "|03/04/2019 20:33:06|loc0       |35          |\n",
      "|03/04/2019 20:38:06|loc0       |32          |\n",
      "|03/04/2019 20:43:06|loc0       |28          |\n",
      "|03/04/2019 20:48:06|loc0       |28          |\n",
      "|03/04/2019 20:53:06|loc0       |32          |\n",
      "|03/04/2019 20:58:06|loc0       |34          |\n",
      "|03/04/2019 21:03:06|loc0       |33          |\n",
      "|03/04/2019 21:08:06|loc0       |27          |\n",
      "|03/04/2019 21:13:06|loc0       |28          |\n",
      "|03/04/2019 21:18:06|loc0       |33          |\n",
      "|03/04/2019 21:23:06|loc0       |28          |\n",
      "+-------------------+-----------+------------+\n",
      "only showing top 20 rows\n",
      "\n"
     ]
    }
   ],
   "source": [
    "df1.show(truncate=0)"
   ]
  },
  {
   "cell_type": "code",
   "execution_count": 23,
   "id": "1f6e4858",
   "metadata": {},
   "outputs": [
    {
     "name": "stderr",
     "output_type": "stream",
     "text": [
      "                                                                                \r"
     ]
    },
    {
     "data": {
      "text/plain": [
       "500000"
      ]
     },
     "execution_count": 23,
     "metadata": {},
     "output_type": "execute_result"
    }
   ],
   "source": [
    "df1.count()"
   ]
  },
  {
   "cell_type": "code",
   "execution_count": 24,
   "id": "968bed7f",
   "metadata": {},
   "outputs": [
    {
     "data": {
      "text/plain": [
       "'/Users/udhhav/Desktop/pyspark/LinkedIn/utilization.csv'"
      ]
     },
     "execution_count": 24,
     "metadata": {},
     "output_type": "execute_result"
    }
   ],
   "source": [
    "file_path_no_header = data_path+\"utilization.csv\"\n",
    "file_path_no_header"
   ]
  },
  {
   "cell_type": "code",
   "execution_count": 25,
   "id": "57f5e52d",
   "metadata": {},
   "outputs": [
    {
     "name": "stdout",
     "output_type": "stream",
     "text": [
      "+-------------------+---+----+----+---+\n",
      "|_c0                |_c1|_c2 |_c3 |_c4|\n",
      "+-------------------+---+----+----+---+\n",
      "|03/05/2019 08:06:14|100|0.57|0.51|47 |\n",
      "|03/05/2019 08:11:14|100|0.47|0.62|43 |\n",
      "|03/05/2019 08:16:14|100|0.56|0.57|62 |\n",
      "|03/05/2019 08:21:14|100|0.57|0.56|50 |\n",
      "|03/05/2019 08:26:14|100|0.35|0.46|43 |\n",
      "|03/05/2019 08:31:14|100|0.41|0.58|48 |\n",
      "|03/05/2019 08:36:14|100|0.57|0.35|58 |\n",
      "|03/05/2019 08:41:14|100|0.41|0.40|58 |\n",
      "|03/05/2019 08:46:14|100|0.53|0.35|62 |\n",
      "|03/05/2019 08:51:14|100|0.51|0.60|45 |\n",
      "|03/05/2019 08:56:14|100|0.32|0.37|47 |\n",
      "|03/05/2019 09:01:14|100|0.62|0.59|60 |\n",
      "|03/05/2019 09:06:14|100|0.66|0.72|57 |\n",
      "|03/05/2019 09:11:14|100|0.54|0.54|44 |\n",
      "|03/05/2019 09:16:14|100|0.29|0.40|47 |\n",
      "|03/05/2019 09:21:14|100|0.43|0.68|66 |\n",
      "|03/05/2019 09:26:14|100|0.49|0.66|65 |\n",
      "|03/05/2019 09:31:14|100|0.64|0.55|66 |\n",
      "|03/05/2019 09:36:14|100|0.42|0.60|42 |\n",
      "|03/05/2019 09:41:14|100|0.55|0.59|63 |\n",
      "+-------------------+---+----+----+---+\n",
      "only showing top 20 rows\n",
      "\n"
     ]
    }
   ],
   "source": [
    "df2 = spark.read.format(\"csv\").option(\"header\",\"false\").option(\"inferSchema\",\"false\").load(file_path_no_header)\n",
    "df2.show(truncate=0)"
   ]
  },
  {
   "cell_type": "code",
   "execution_count": 26,
   "id": "bc6bb091",
   "metadata": {},
   "outputs": [
    {
     "data": {
      "text/plain": [
       "500000"
      ]
     },
     "execution_count": 26,
     "metadata": {},
     "output_type": "execute_result"
    }
   ],
   "source": [
    "df2.count()"
   ]
  },
  {
   "cell_type": "code",
   "execution_count": 27,
   "id": "30fbfa29",
   "metadata": {},
   "outputs": [
    {
     "name": "stdout",
     "output_type": "stream",
     "text": [
      "+-------------------+---+----+----+---+\n",
      "|                _c0|_c1| _c2| _c3|_c4|\n",
      "+-------------------+---+----+----+---+\n",
      "|03/05/2019 08:06:14|100|0.57|0.51| 47|\n",
      "|03/05/2019 08:11:14|100|0.47|0.62| 43|\n",
      "|03/05/2019 08:16:14|100|0.56|0.57| 62|\n",
      "|03/05/2019 08:21:14|100|0.57|0.56| 50|\n",
      "|03/05/2019 08:26:14|100|0.35|0.46| 43|\n",
      "|03/05/2019 08:31:14|100|0.41|0.58| 48|\n",
      "|03/05/2019 08:36:14|100|0.57|0.35| 58|\n",
      "|03/05/2019 08:41:14|100|0.41|0.40| 58|\n",
      "|03/05/2019 08:46:14|100|0.53|0.35| 62|\n",
      "|03/05/2019 08:51:14|100|0.51|0.60| 45|\n",
      "+-------------------+---+----+----+---+\n",
      "only showing top 10 rows\n",
      "\n"
     ]
    }
   ],
   "source": [
    "df2.show(10)"
   ]
  },
  {
   "cell_type": "code",
   "execution_count": 28,
   "id": "7a6b395d",
   "metadata": {},
   "outputs": [],
   "source": [
    "df2 = df2.withColumnRenamed(\"_c0\",\"event_datetime\") \\\n",
    ".withColumnRenamed(\"_c1\",\"serverid\") \\\n",
    ".withColumnRenamed(\"_c2\",\"cpu_utilization\")\\\n",
    ".withColumnRenamed(\"_c3\",\"free_memory\") \\\n",
    ".withColumnRenamed(\"_c4\",\"session_count\")"
   ]
  },
  {
   "cell_type": "code",
   "execution_count": 29,
   "id": "d4e6647e",
   "metadata": {},
   "outputs": [
    {
     "name": "stdout",
     "output_type": "stream",
     "text": [
      "+-------------------+--------+---------------+-----------+-------------+\n",
      "|     event_datetime|serverid|cpu_utilization|free_memory|session_count|\n",
      "+-------------------+--------+---------------+-----------+-------------+\n",
      "|03/05/2019 08:06:14|     100|           0.57|       0.51|           47|\n",
      "|03/05/2019 08:11:14|     100|           0.47|       0.62|           43|\n",
      "|03/05/2019 08:16:14|     100|           0.56|       0.57|           62|\n",
      "|03/05/2019 08:21:14|     100|           0.57|       0.56|           50|\n",
      "|03/05/2019 08:26:14|     100|           0.35|       0.46|           43|\n",
      "|03/05/2019 08:31:14|     100|           0.41|       0.58|           48|\n",
      "|03/05/2019 08:36:14|     100|           0.57|       0.35|           58|\n",
      "|03/05/2019 08:41:14|     100|           0.41|       0.40|           58|\n",
      "|03/05/2019 08:46:14|     100|           0.53|       0.35|           62|\n",
      "|03/05/2019 08:51:14|     100|           0.51|       0.60|           45|\n",
      "+-------------------+--------+---------------+-----------+-------------+\n",
      "only showing top 10 rows\n",
      "\n"
     ]
    },
    {
     "name": "stderr",
     "output_type": "stream",
     "text": [
      "22/05/15 17:56:20 WARN HeartbeatReceiver: Removing executor driver with no recent heartbeats: 826699 ms exceeds timeout 120000 ms\n",
      "22/05/15 17:56:21 WARN SparkContext: Killing executors is not supported by current scheduler.\n"
     ]
    }
   ],
   "source": [
    "df2.show(10)"
   ]
  },
  {
   "cell_type": "code",
   "execution_count": null,
   "id": "36c55505",
   "metadata": {},
   "outputs": [],
   "source": []
  }
 ],
 "metadata": {
  "kernelspec": {
   "display_name": "Python 3 (ipykernel)",
   "language": "python",
   "name": "python3"
  },
  "language_info": {
   "codemirror_mode": {
    "name": "ipython",
    "version": 3
   },
   "file_extension": ".py",
   "mimetype": "text/x-python",
   "name": "python",
   "nbconvert_exporter": "python",
   "pygments_lexer": "ipython3",
   "version": "3.9.7"
  }
 },
 "nbformat": 4,
 "nbformat_minor": 5
}
